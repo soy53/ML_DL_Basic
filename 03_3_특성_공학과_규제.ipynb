{
  "nbformat": 4,
  "nbformat_minor": 0,
  "metadata": {
    "colab": {
      "provenance": [],
      "toc_visible": true,
      "authorship_tag": "ABX9TyN5ZKJfflgiucgII3JRbybw"
    },
    "kernelspec": {
      "name": "python3",
      "display_name": "Python 3"
    },
    "language_info": {
      "name": "python"
    }
  },
  "cells": [
    {
      "cell_type": "markdown",
      "source": [
        "# 혼공머신 03_3. 특성 공학과 규제"
      ],
      "metadata": {
        "id": "_5-NTxt6MJ04"
      }
    },
    {
      "cell_type": "markdown",
      "source": [
        "## 다중 회귀\n",
        "- 여러 개의 특성을 사용한 선형 회귀, 특성이 많은 고차원에서 선형 회귀가 매우 복잡한 모델을 표현할 수 있다. 특성이 많을수록 선형 모델의 성능은 좋아진다.\n",
        "- 특성 공학 : 각 특성을 서로 곱해서 또 다른 특성을 만드는 등 기존의 특성을 사용해 새로운 특성을 만드는 작업"
      ],
      "metadata": {
        "id": "3CKmrpPHMUko"
      }
    },
    {
      "cell_type": "markdown",
      "source": [
        "## 데이터 준비\n",
        "- 농어의 특성이 3개(길이, 높이, 두께)일 때, 판다스(pandas)라는 데이터 분석 라이브러리를 사용하여 데이터프레임(dataframe) 구조를 다룰 수 있다. 데이터프레임은 넘파이 배열처럼 다차원 배열을 다룰 수도 있고, 넘파이 배열로 쉽게 변환할 수도 있다.\n",
        "- read_csv() 매개변수  \n",
        "  - sep : 파일의 구분자 지정. default는 콤마(,).\n",
        "  - header : 데이터프레임의 열 이름으로 사용할 csv 파일의 행 번호 지정. 기본적으로는 첫 번째 행을 열 이름으로 사용.\n",
        "  - skiprows : 파일에서 읽기 전에 건너뛸 행의 개수 지정.\n",
        "  - nrows : 파일에서 읽을 행의 개수 지정.\n",
        "- pandas dataframe을 만들기 위해 CSV 파일을 많이 이용한다."
      ],
      "metadata": {
        "id": "VsefmuEPM8nn"
      }
    },
    {
      "cell_type": "code",
      "execution_count": null,
      "metadata": {
        "colab": {
          "base_uri": "https://localhost:8080/"
        },
        "id": "7Q5QM3NuMEeo",
        "outputId": "b6c3c281-978f-4a0d-8795-b56e883da66c"
      },
      "outputs": [
        {
          "output_type": "stream",
          "name": "stdout",
          "text": [
            "[[ 8.4   2.11  1.41]\n",
            " [13.7   3.53  2.  ]\n",
            " [15.    3.82  2.43]\n",
            " [16.2   4.59  2.63]\n",
            " [17.4   4.59  2.94]\n",
            " [18.    5.22  3.32]\n",
            " [18.7   5.2   3.12]\n",
            " [19.    5.64  3.05]\n",
            " [19.6   5.14  3.04]\n",
            " [20.    5.08  2.77]\n",
            " [21.    5.69  3.56]\n",
            " [21.    5.92  3.31]\n",
            " [21.    5.69  3.67]\n",
            " [21.3   6.38  3.53]\n",
            " [22.    6.11  3.41]\n",
            " [22.    5.64  3.52]\n",
            " [22.    6.11  3.52]\n",
            " [22.    5.88  3.52]\n",
            " [22.    5.52  4.  ]\n",
            " [22.5   5.86  3.62]\n",
            " [22.5   6.79  3.62]\n",
            " [22.7   5.95  3.63]\n",
            " [23.    5.22  3.63]\n",
            " [23.5   6.28  3.72]\n",
            " [24.    7.29  3.72]\n",
            " [24.    6.38  3.82]\n",
            " [24.6   6.73  4.17]\n",
            " [25.    6.44  3.68]\n",
            " [25.6   6.56  4.24]\n",
            " [26.5   7.17  4.14]\n",
            " [27.3   8.32  5.14]\n",
            " [27.5   7.17  4.34]\n",
            " [27.5   7.05  4.34]\n",
            " [27.5   7.28  4.57]\n",
            " [28.    7.82  4.2 ]\n",
            " [28.7   7.59  4.64]\n",
            " [30.    7.62  4.77]\n",
            " [32.8  10.03  6.02]\n",
            " [34.5  10.26  6.39]\n",
            " [35.   11.49  7.8 ]\n",
            " [36.5  10.88  6.86]\n",
            " [36.   10.61  6.74]\n",
            " [37.   10.84  6.26]\n",
            " [37.   10.57  6.37]\n",
            " [39.   11.14  7.49]\n",
            " [39.   11.14  6.  ]\n",
            " [39.   12.43  7.35]\n",
            " [40.   11.93  7.11]\n",
            " [40.   11.73  7.22]\n",
            " [40.   12.38  7.46]\n",
            " [40.   11.14  6.63]\n",
            " [42.   12.8   6.87]\n",
            " [43.   11.93  7.28]\n",
            " [43.   12.51  7.42]\n",
            " [43.5  12.6   8.14]\n",
            " [44.   12.49  7.6 ]]\n"
          ]
        }
      ],
      "source": [
        "# 파일 불러오기(feature data)\n",
        "import pandas as pd\n",
        "\n",
        "df = pd.read_csv('https://bit.ly/perch_csv_data')\n",
        "perch_full = df.to_numpy()   # 넘파이 배열로 바꾸기\n",
        "print(perch_full)"
      ]
    },
    {
      "cell_type": "code",
      "source": [
        "# target data 준비\n",
        "import numpy as np\n",
        "\n",
        "perch_weight = np.array([5.9, 32.0, 40.0, 51.5, 70.0, 100.0, 78.0, 80.0, 85.0, 85.0, 110.0,\n",
        "       115.0, 125.0, 130.0, 120.0, 120.0, 130.0, 135.0, 110.0, 130.0,\n",
        "       150.0, 145.0, 150.0, 170.0, 225.0, 145.0, 188.0, 180.0, 197.0,\n",
        "       218.0, 300.0, 260.0, 265.0, 250.0, 250.0, 300.0, 320.0, 514.0,\n",
        "       556.0, 840.0, 685.0, 700.0, 700.0, 690.0, 900.0, 650.0, 820.0,\n",
        "       850.0, 900.0, 1015.0, 820.0, 1100.0, 1000.0, 1100.0, 1000.0,\n",
        "       1000.0])"
      ],
      "metadata": {
        "id": "PazaKrNHMI7T"
      },
      "execution_count": null,
      "outputs": []
    },
    {
      "cell_type": "code",
      "source": [
        "# data split\n",
        "from sklearn.model_selection import train_test_split\n",
        "\n",
        "train_input, test_input, train_target, test_target = train_test_split(\n",
        "    perch_full, perch_weight, random_state=42)"
      ],
      "metadata": {
        "id": "Lx3K_TsFMI9m"
      },
      "execution_count": null,
      "outputs": []
    },
    {
      "cell_type": "markdown",
      "source": [
        "## 사이킷런 변환기(transfomer)\n",
        "- 특성을 만들거나 전처리를 하기 위한 클래스. 공통적으로 fit(), transform() 메서드를 제공한다.\n",
        "- PolynomialFeatures() : 새로운 특성을 만드는 클래스.  \n",
        "degree : 최고 차수 지정(default는 2) / include_bias=False : 절편을 위한 특성 제거(default는 True) / interaction_only=Ture : 거듭제곱 항은 제외되고 특성 간 곱셈 항만 추가(default는 False)\n",
        "- fit() : 새롭게 만들 특성 조합을 찾는다. input data를 변환할 때 target data는 필요하지 않으므로 input data만 전달한다.\n",
        "- transform() : 실제로 데이터를 변환한다."
      ],
      "metadata": {
        "id": "Qv7_8xZpRNsA"
      }
    },
    {
      "cell_type": "code",
      "source": [
        "# PolynomialFeatures 클래스 사용\n",
        "from sklearn.preprocessing import PolynomialFeatures"
      ],
      "metadata": {
        "id": "gLqJof-wiG7d"
      },
      "execution_count": null,
      "outputs": []
    },
    {
      "cell_type": "code",
      "source": [
        "# 예시 1\n",
        "poly = PolynomialFeatures()\n",
        "poly.fit([[2, 3]])\n",
        "print(poly.transform([[2, 3]]))"
      ],
      "metadata": {
        "colab": {
          "base_uri": "https://localhost:8080/"
        },
        "id": "ykXxtX7cMI_v",
        "outputId": "322474b1-7157-41a5-f227-27504dae4c71"
      },
      "execution_count": null,
      "outputs": [
        {
          "output_type": "stream",
          "name": "stdout",
          "text": [
            "[[1. 2. 3. 4. 6. 9.]]\n"
          ]
        }
      ]
    },
    {
      "cell_type": "code",
      "source": [
        "# 예시 2\n",
        "poly = PolynomialFeatures(include_bias=False)\n",
        "poly.fit([[2, 3]])\n",
        "print(poly.transform([[2, 3]]))"
      ],
      "metadata": {
        "colab": {
          "base_uri": "https://localhost:8080/"
        },
        "id": "d501I9UpMJCC",
        "outputId": "15f491bf-5f5b-404c-92fa-6ea42bb2d05a"
      },
      "execution_count": null,
      "outputs": [
        {
          "output_type": "stream",
          "name": "stdout",
          "text": [
            "[[2. 3. 4. 6. 9.]]\n"
          ]
        }
      ]
    },
    {
      "cell_type": "markdown",
      "source": [
        "- 무게 = a x 길이 + b x 높이 + c x 두께 + d x 1  \n",
        "선형방정식은 위와 같은 식으로 이루어져 있어 예시 1에서는 1이 추가되었다. 이때, 특성은 (길이, 높이, 두께, 1)이 되는데, 사이킷런의 선형 모델은 자동으로 절편을 추가하므로 굳이 이렇게 특성을 만들 필요가 없다. 따라서 include_bias=False로 지정하여 절편을 위한 특성을 추가하지 않는다.  \n",
        "참고 : include_bias=False로 지정하지 않아도 사이킷런 모델은 자동으로 특성에 추가된 절편 항을 무시한다."
      ],
      "metadata": {
        "id": "f6EGSqRfjow1"
      }
    },
    {
      "cell_type": "code",
      "source": [
        "# train set 변환\n",
        "poly = PolynomialFeatures(include_bias= False)\n",
        "poly.fit(train_input)\n",
        "train_poly = poly.transform(train_input)\n",
        "print(train_poly.shape)"
      ],
      "metadata": {
        "colab": {
          "base_uri": "https://localhost:8080/"
        },
        "id": "QxJbNNftMJEH",
        "outputId": "83883cbd-9cd2-4e06-d759-f70ed4cfec30"
      },
      "execution_count": null,
      "outputs": [
        {
          "output_type": "stream",
          "name": "stdout",
          "text": [
            "(42, 9)\n"
          ]
        }
      ]
    },
    {
      "cell_type": "code",
      "source": [
        "# 9개의 특성의 조합 확인\n",
        "poly.get_feature_names_out()"
      ],
      "metadata": {
        "colab": {
          "base_uri": "https://localhost:8080/"
        },
        "id": "i-jNP24EMJGH",
        "outputId": "cc0f7e46-35f8-4986-c3c5-6a98d87348c4"
      },
      "execution_count": null,
      "outputs": [
        {
          "output_type": "execute_result",
          "data": {
            "text/plain": [
              "array(['x0', 'x1', 'x2', 'x0^2', 'x0 x1', 'x0 x2', 'x1^2', 'x1 x2',\n",
              "       'x2^2'], dtype=object)"
            ]
          },
          "metadata": {},
          "execution_count": 18
        }
      ]
    },
    {
      "cell_type": "code",
      "source": [
        "# test set 변환\n",
        "test_poly = poly.transform(test_input)"
      ],
      "metadata": {
        "id": "bAROH9_VMJIG"
      },
      "execution_count": null,
      "outputs": []
    },
    {
      "cell_type": "markdown",
      "source": [
        "- test set을 따로 변환해도 상관없지만, train set을 기준으로 test set을 변환하는 것이 좋다."
      ],
      "metadata": {
        "id": "YgibjcsLm6zz"
      }
    },
    {
      "cell_type": "markdown",
      "source": [
        "## 다중 회귀 모델 훈련하기"
      ],
      "metadata": {
        "id": "x3GSDlh8nIMl"
      }
    },
    {
      "cell_type": "code",
      "source": [
        "# train_poly를 사용해 모델 훈련\n",
        "from sklearn.linear_model import LinearRegression\n",
        "\n",
        "lr = LinearRegression()\n",
        "lr.fit(train_poly, train_target)"
      ],
      "metadata": {
        "colab": {
          "base_uri": "https://localhost:8080/",
          "height": 75
        },
        "id": "7eEFO-S-m6Eq",
        "outputId": "7466f362-1e19-43c8-ca37-b16a9c8c0146"
      },
      "execution_count": null,
      "outputs": [
        {
          "output_type": "execute_result",
          "data": {
            "text/plain": [
              "LinearRegression()"
            ],
            "text/html": [
              "<style>#sk-container-id-1 {color: black;background-color: white;}#sk-container-id-1 pre{padding: 0;}#sk-container-id-1 div.sk-toggleable {background-color: white;}#sk-container-id-1 label.sk-toggleable__label {cursor: pointer;display: block;width: 100%;margin-bottom: 0;padding: 0.3em;box-sizing: border-box;text-align: center;}#sk-container-id-1 label.sk-toggleable__label-arrow:before {content: \"▸\";float: left;margin-right: 0.25em;color: #696969;}#sk-container-id-1 label.sk-toggleable__label-arrow:hover:before {color: black;}#sk-container-id-1 div.sk-estimator:hover label.sk-toggleable__label-arrow:before {color: black;}#sk-container-id-1 div.sk-toggleable__content {max-height: 0;max-width: 0;overflow: hidden;text-align: left;background-color: #f0f8ff;}#sk-container-id-1 div.sk-toggleable__content pre {margin: 0.2em;color: black;border-radius: 0.25em;background-color: #f0f8ff;}#sk-container-id-1 input.sk-toggleable__control:checked~div.sk-toggleable__content {max-height: 200px;max-width: 100%;overflow: auto;}#sk-container-id-1 input.sk-toggleable__control:checked~label.sk-toggleable__label-arrow:before {content: \"▾\";}#sk-container-id-1 div.sk-estimator input.sk-toggleable__control:checked~label.sk-toggleable__label {background-color: #d4ebff;}#sk-container-id-1 div.sk-label input.sk-toggleable__control:checked~label.sk-toggleable__label {background-color: #d4ebff;}#sk-container-id-1 input.sk-hidden--visually {border: 0;clip: rect(1px 1px 1px 1px);clip: rect(1px, 1px, 1px, 1px);height: 1px;margin: -1px;overflow: hidden;padding: 0;position: absolute;width: 1px;}#sk-container-id-1 div.sk-estimator {font-family: monospace;background-color: #f0f8ff;border: 1px dotted black;border-radius: 0.25em;box-sizing: border-box;margin-bottom: 0.5em;}#sk-container-id-1 div.sk-estimator:hover {background-color: #d4ebff;}#sk-container-id-1 div.sk-parallel-item::after {content: \"\";width: 100%;border-bottom: 1px solid gray;flex-grow: 1;}#sk-container-id-1 div.sk-label:hover label.sk-toggleable__label {background-color: #d4ebff;}#sk-container-id-1 div.sk-serial::before {content: \"\";position: absolute;border-left: 1px solid gray;box-sizing: border-box;top: 0;bottom: 0;left: 50%;z-index: 0;}#sk-container-id-1 div.sk-serial {display: flex;flex-direction: column;align-items: center;background-color: white;padding-right: 0.2em;padding-left: 0.2em;position: relative;}#sk-container-id-1 div.sk-item {position: relative;z-index: 1;}#sk-container-id-1 div.sk-parallel {display: flex;align-items: stretch;justify-content: center;background-color: white;position: relative;}#sk-container-id-1 div.sk-item::before, #sk-container-id-1 div.sk-parallel-item::before {content: \"\";position: absolute;border-left: 1px solid gray;box-sizing: border-box;top: 0;bottom: 0;left: 50%;z-index: -1;}#sk-container-id-1 div.sk-parallel-item {display: flex;flex-direction: column;z-index: 1;position: relative;background-color: white;}#sk-container-id-1 div.sk-parallel-item:first-child::after {align-self: flex-end;width: 50%;}#sk-container-id-1 div.sk-parallel-item:last-child::after {align-self: flex-start;width: 50%;}#sk-container-id-1 div.sk-parallel-item:only-child::after {width: 0;}#sk-container-id-1 div.sk-dashed-wrapped {border: 1px dashed gray;margin: 0 0.4em 0.5em 0.4em;box-sizing: border-box;padding-bottom: 0.4em;background-color: white;}#sk-container-id-1 div.sk-label label {font-family: monospace;font-weight: bold;display: inline-block;line-height: 1.2em;}#sk-container-id-1 div.sk-label-container {text-align: center;}#sk-container-id-1 div.sk-container {/* jupyter's `normalize.less` sets `[hidden] { display: none; }` but bootstrap.min.css set `[hidden] { display: none !important; }` so we also need the `!important` here to be able to override the default hidden behavior on the sphinx rendered scikit-learn.org. See: https://github.com/scikit-learn/scikit-learn/issues/21755 */display: inline-block !important;position: relative;}#sk-container-id-1 div.sk-text-repr-fallback {display: none;}</style><div id=\"sk-container-id-1\" class=\"sk-top-container\"><div class=\"sk-text-repr-fallback\"><pre>LinearRegression()</pre><b>In a Jupyter environment, please rerun this cell to show the HTML representation or trust the notebook. <br />On GitHub, the HTML representation is unable to render, please try loading this page with nbviewer.org.</b></div><div class=\"sk-container\" hidden><div class=\"sk-item\"><div class=\"sk-estimator sk-toggleable\"><input class=\"sk-toggleable__control sk-hidden--visually\" id=\"sk-estimator-id-1\" type=\"checkbox\" checked><label for=\"sk-estimator-id-1\" class=\"sk-toggleable__label sk-toggleable__label-arrow\">LinearRegression</label><div class=\"sk-toggleable__content\"><pre>LinearRegression()</pre></div></div></div></div></div>"
            ]
          },
          "metadata": {},
          "execution_count": 20
        }
      ]
    },
    {
      "cell_type": "code",
      "source": [
        "lr.score(train_poly, train_target)"
      ],
      "metadata": {
        "colab": {
          "base_uri": "https://localhost:8080/"
        },
        "id": "QdizaHmYMJKP",
        "outputId": "0a7aa54e-378d-4a53-fa90-ff46f3286f18"
      },
      "execution_count": null,
      "outputs": [
        {
          "output_type": "execute_result",
          "data": {
            "text/plain": [
              "0.9903183436982125"
            ]
          },
          "metadata": {},
          "execution_count": 21
        }
      ]
    },
    {
      "cell_type": "code",
      "source": [
        "lr.score(test_poly, test_target)"
      ],
      "metadata": {
        "colab": {
          "base_uri": "https://localhost:8080/"
        },
        "id": "Uf5--onlMJMP",
        "outputId": "39c5fab8-f0f3-4d85-836f-84655002a068"
      },
      "execution_count": null,
      "outputs": [
        {
          "output_type": "execute_result",
          "data": {
            "text/plain": [
              "0.9714559911594111"
            ]
          },
          "metadata": {},
          "execution_count": 22
        }
      ]
    },
    {
      "cell_type": "markdown",
      "source": [
        "- test set에 대한 점수는 높아지지 않았지만 underfitting 문제는 해결되었다."
      ],
      "metadata": {
        "id": "dkxfxsZunv9D"
      }
    },
    {
      "cell_type": "code",
      "source": [
        "# 특성 더 추가\n",
        "poly = PolynomialFeatures(degree=5, include_bias=False)\n",
        "poly.fit(train_input)\n",
        "train_poly = poly.transform(train_input)\n",
        "test_poly = poly.transform(test_input)\n",
        "print(train_poly.shape)"
      ],
      "metadata": {
        "colab": {
          "base_uri": "https://localhost:8080/"
        },
        "id": "wWPBPY_XMJOX",
        "outputId": "3e3fb2c3-323a-46c4-c461-4578d60a8098"
      },
      "execution_count": null,
      "outputs": [
        {
          "output_type": "stream",
          "name": "stdout",
          "text": [
            "(42, 55)\n"
          ]
        }
      ]
    },
    {
      "cell_type": "code",
      "source": [
        "lr.fit(train_poly, train_target) # 훈련\n",
        "print(\"train set score:\", lr.score(train_poly, train_target))\n",
        "print(\"test set score:\", lr.score(test_poly, test_target))"
      ],
      "metadata": {
        "colab": {
          "base_uri": "https://localhost:8080/"
        },
        "id": "2ymDgM6EMJQf",
        "outputId": "da7ed6a7-0e10-4499-8fbc-bf7859e224af"
      },
      "execution_count": null,
      "outputs": [
        {
          "output_type": "stream",
          "name": "stdout",
          "text": [
            "train set score: 0.9999999999996433\n",
            "test set score: -144.40579436844948\n"
          ]
        }
      ]
    },
    {
      "cell_type": "markdown",
      "source": [
        "- 특성의 개수를 늘리면 선형 모델은 강력해져서 train data에 대해서는 거의 완벽하게 학습할 수 있지만 overfitting이 발생할 가능성이 높아진다.  \n",
        "test set score가 음수가 나온 것은 overfitting이 발생한 것이다."
      ],
      "metadata": {
        "id": "QYd1EEHBtF60"
      }
    },
    {
      "cell_type": "markdown",
      "source": [
        "## 규제(Regularization)\n",
        "- 머신러닝 모델이 overfitting이 발생하지 않도록 하는 것이다.  \n",
        "선형 회귀 모델의 경우 특성에 곱해지는 계수(기울기)의 크기를 작게 만든다.\n",
        "- 특성의 스케일이 정규화되지 않으면 계수 값의 차이가 커지게 되고, 계수 값의 크기가 많이 다르면 선형 회귀 모델에 규제를 적용할 때 공정하게 제어되지 않는다. → 스케일링 필요(StandardScaler() : 표준점수 변환)"
      ],
      "metadata": {
        "id": "3CzZ7xN2tgyZ"
      }
    },
    {
      "cell_type": "code",
      "source": [
        "# StandardScaler 클래스를 이용하여 정규화\n",
        "from sklearn.preprocessing import StandardScaler\n",
        "ss = StandardScaler()\n",
        "ss.fit(train_poly)\n",
        "train_scaled = ss.transform(train_poly)\n",
        "test_scaled = ss.transform(test_poly)"
      ],
      "metadata": {
        "id": "7cnSCzNiMJSX"
      },
      "execution_count": null,
      "outputs": []
    },
    {
      "cell_type": "markdown",
      "source": [
        "## 릿지 회귀\n",
        "- 규제가 있는 선형 회귀 모델로, 선형 모델의 계수를 작게 만들어 overfitting을 완화시킨다.\n",
        "- 계수를 제곱한 값을 기준으로 규제를 적용한다.\n",
        "- 매개변수  \n",
        "  - alpha : 규제의 강도 조절(값이 클수록 규제가 강해짐). default는 1.\n",
        "  - solver : 최적의 모델을 찾기 위한 방법 지정. default는 auto이며, 데이터에 따라 자동으로 선택된다. sag(사이킷런 0.17)는 확률적 평균 경사하강법 알고리즘으로 특성과 샘플 수가 많을 때 성능이 빠르고 좋다. saga(사이킷런 0.19)는 sag의 개선 버전이다.\n",
        "  - random_state : solver=sag or saga → 넘파이 난수 시드값 지정 가능."
      ],
      "metadata": {
        "id": "c_S0BEaJvI5q"
      }
    },
    {
      "cell_type": "code",
      "source": [
        "# 릿지 모델 훈련\n",
        "from sklearn.linear_model import Ridge\n",
        "\n",
        "ridge = Ridge()\n",
        "ridge.fit(train_scaled, train_target)\n",
        "print(\"ridge train set score:\", ridge.score(train_scaled, train_target))\n",
        "print(\"ridge test set score:\", ridge.score(test_scaled, test_target))"
      ],
      "metadata": {
        "colab": {
          "base_uri": "https://localhost:8080/"
        },
        "id": "5fj0t544tgQ0",
        "outputId": "1ddae369-4e83-4107-ce95-db7e627cb4f0"
      },
      "execution_count": null,
      "outputs": [
        {
          "output_type": "stream",
          "name": "stdout",
          "text": [
            "ridge train set score: 0.9896101671037343\n",
            "ridge test set score: 0.9790693977615387\n"
          ]
        }
      ]
    },
    {
      "cell_type": "markdown",
      "source": [
        "- 많은 특성을 사용했음에도 overfitting이 일어나지 않았다.\n",
        "- 규제 양 조절 가능 → alpha(값이 커질수록 규제 강도가 세져 계수 값을 줄이게 되고, underfitting 되도록 유도한다. 값이 작아질수록 계수에 영향을 덜 미치게 되고, overfitting 가능성이 커진다.\n",
        "- 적절한 alpha 값 찾기 : R^2의 그래프를 그려 train set과 test set의 점수가 가장 가까운 지점을 찾는다."
      ],
      "metadata": {
        "id": "S2Wawc5k91DE"
      }
    },
    {
      "cell_type": "code",
      "source": [
        "import matplotlib.pyplot as plt\n",
        "\n",
        "train_score = []\n",
        "test_score = []\n",
        "\n",
        "alpha_list = [0.001, 0.01, 0.1, 1, 10, 100]\n",
        "for alpha in alpha_list:\n",
        "  ridge = Ridge(alpha=alpha)             # 릿지 모델 만들기\n",
        "  ridge.fit(train_scaled, train_target)  # 훈련\n",
        "  train_score.append(ridge.score(train_scaled, train_target))\n",
        "  test_score.append(ridge.score(test_scaled, test_target))"
      ],
      "metadata": {
        "id": "n38EiTQ6tgTQ"
      },
      "execution_count": null,
      "outputs": []
    },
    {
      "cell_type": "code",
      "source": [
        "# 그래프\n",
        "plt.plot(np.log10(alpha_list), train_score, label='train score')\n",
        "plt.plot(np.log10(alpha_list), test_score, label='test score')\n",
        "plt.xlabel('alpha')\n",
        "plt.ylabel('R^2')\n",
        "plt.legend(loc='lower right')\n",
        "plt.show()"
      ],
      "metadata": {
        "colab": {
          "base_uri": "https://localhost:8080/",
          "height": 449
        },
        "id": "bxZylOH8tgVf",
        "outputId": "c79c31c3-e6bc-4043-bbe0-646e4c5d8d17"
      },
      "execution_count": null,
      "outputs": [
        {
          "output_type": "display_data",
          "data": {
            "text/plain": [
              "<Figure size 640x480 with 1 Axes>"
            ],
            "image/png": "[encoded data removed]"
          },
          "metadata": {}
        }
      ]
    },
    {
      "cell_type": "markdown",
      "source": [
        "- x축은 alpha_list에 있는 6개의 값을 동일한 간격으로 나타내기 위해 로그 함수로 바꾸어 지수로 표현한다.  \n",
        "참고 : 넘파이 로그 함수는 np.log()와 np.log10()이 있는데, 전자는 자연 상수 e를 밑으로 하는 자연로그이고, 후자는 10을 밑으로 하는 상용로그이다.\n",
        "- train set과 test set이 가장 가까운 -1, 즉 0.1이 최적의 alpha 값이 된다."
      ],
      "metadata": {
        "id": "JLqK5CIj_Fpa"
      }
    },
    {
      "cell_type": "code",
      "source": [
        "ridge = Ridge(alpha=0.1)\n",
        "ridge.fit(train_scaled, train_target)\n",
        "print(\"ridge train set score:\", ridge.score(train_scaled, train_target))\n",
        "print(\"riege test set score:\", ridge.score(test_scaled, test_target))"
      ],
      "metadata": {
        "colab": {
          "base_uri": "https://localhost:8080/"
        },
        "id": "C7xn0XXWtgXj",
        "outputId": "a199e40b-511c-4cae-e739-705042eade01"
      },
      "execution_count": null,
      "outputs": [
        {
          "output_type": "stream",
          "name": "stdout",
          "text": [
            "ridge train set score: 0.9903815817570367\n",
            "riege test set score: 0.9827976465386928\n"
          ]
        }
      ]
    },
    {
      "cell_type": "markdown",
      "source": [
        "- train set과 test set 점수가 비슷하게 높고 overfitting과 underfitting 사이에서 균형을 잘 맞추고 있다."
      ],
      "metadata": {
        "id": "q5BDdzS7_rpj"
      }
    },
    {
      "cell_type": "markdown",
      "source": [
        "## 라쏘 회귀\n",
        "- 규제가 있는 선형 회귀 모델로, 계수 값을 0으로 만들 수 있다.\n",
        "- 계수의 절대값을 기준으로 규제를 적용한다.\n",
        "- 최적의 모델을 찾기 위해 좌표축을 따라 최적화를 수행하는 좌표 하강법(coordinate descent)를 사용한다.\n",
        "- 매개변수  \n",
        " - alpha\n",
        " - random_state\n",
        " - max_iter : 알고리즘 수행 반복 횟수 지정. default는 1000."
      ],
      "metadata": {
        "id": "94a9IZYPxjPi"
      }
    },
    {
      "cell_type": "code",
      "source": [
        "# 라쏘 모델 훈련\n",
        "from sklearn.linear_model import Lasso\n",
        "\n",
        "lasso = Lasso()\n",
        "lasso.fit(train_scaled, train_target)\n",
        "print(\"lasso train set score:\", lasso.score(train_scaled, train_target))\n",
        "print(\"lasso test set score:\", lasso.score(test_scaled, test_target))"
      ],
      "metadata": {
        "colab": {
          "base_uri": "https://localhost:8080/"
        },
        "id": "ie0q91zdtgZ5",
        "outputId": "8ef283f7-1976-4336-ac14-d173fd76ab61"
      },
      "execution_count": null,
      "outputs": [
        {
          "output_type": "stream",
          "name": "stdout",
          "text": [
            "lasso train set score: 0.989789897208096\n",
            "lasso test set score: 0.9800593698421883\n"
          ]
        }
      ]
    },
    {
      "cell_type": "code",
      "source": [
        "train_score = []\n",
        "test_score = []\n",
        "\n",
        "alpha_list = [0.001, 0.01, 0.1, 1, 10, 100]\n",
        "for alpha in alpha_list:\n",
        "  lasso = Lasso(alpha=alpha, max_iter=10000)   # 라쏘 모델 만들기\n",
        "  lasso.fit(train_scaled, train_target)        # 훈련\n",
        "  train_score.append(lasso.score(train_scaled, train_target))\n",
        "  test_score.append(lasso.score(test_scaled, test_target))"
      ],
      "metadata": {
        "colab": {
          "base_uri": "https://localhost:8080/"
        },
        "id": "GgfZ0RBkMJUh",
        "outputId": "7bc55953-daa2-4f68-b7dd-c3e981957473"
      },
      "execution_count": null,
      "outputs": [
        {
          "output_type": "stream",
          "name": "stderr",
          "text": [
            "/usr/local/lib/python3.10/dist-packages/sklearn/linear_model/_coordinate_descent.py:631: ConvergenceWarning: Objective did not converge. You might want to increase the number of iterations, check the scale of the features or consider increasing regularisation. Duality gap: 1.878e+04, tolerance: 5.183e+02\n",
            "  model = cd_fast.enet_coordinate_descent(\n",
            "/usr/local/lib/python3.10/dist-packages/sklearn/linear_model/_coordinate_descent.py:631: ConvergenceWarning: Objective did not converge. You might want to increase the number of iterations, check the scale of the features or consider increasing regularisation. Duality gap: 1.297e+04, tolerance: 5.183e+02\n",
            "  model = cd_fast.enet_coordinate_descent(\n"
          ]
        }
      ]
    },
    {
      "cell_type": "markdown",
      "source": [
        "- ConvergenceWarning : 라쏘 모델은 최적의 계수를 찾기 위해 반복적인 계산을 수행하는데, 지정한 반복 횟수가 부족할 때 발생하는 경고이다. 반복 횟수를 충분히 늘리기 위해 max_iter=10000으로 지정했는데, 필요하면 더 늘려도 상관없지만 여기서는 큰 영향을 끼치지 않는다."
      ],
      "metadata": {
        "id": "1852Y8ez_9iD"
      }
    },
    {
      "cell_type": "code",
      "source": [
        "# 그래프\n",
        "plt.plot(np.log10(alpha_list), train_score, label='train score')\n",
        "plt.plot(np.log10(alpha_list), test_score, label='test_score')\n",
        "plt.xlabel('alpha')\n",
        "plt.ylabel('R^2')\n",
        "plt.legend()\n",
        "plt.show()"
      ],
      "metadata": {
        "colab": {
          "base_uri": "https://localhost:8080/",
          "height": 449
        },
        "id": "ABsN8yTUyqrd",
        "outputId": "7d6ffac3-e227-46c9-da66-f87d3b2c759b"
      },
      "execution_count": null,
      "outputs": [
        {
          "output_type": "display_data",
          "data": {
            "text/plain": [
              "<Figure size 640x480 with 1 Axes>"
            ],
            "image/png": "[encoded data removed]"
          },
          "metadata": {}
        }
      ]
    },
    {
      "cell_type": "markdown",
      "source": [
        "- alpha = 10^2일 때, 두 점수가 급격하게 떨어지는 것을 보면 underfitting 되었다고 해석할 수 있다.\n",
        "- alpha = 10^1일 때, train set과 test set이 가장 가까우므로 여기서 최적의 alpha 값은 10이 된다."
      ],
      "metadata": {
        "id": "z17T-l2kAcd8"
      }
    },
    {
      "cell_type": "code",
      "source": [
        "lasso = Lasso(alpha=10)\n",
        "lasso.fit(train_scaled, train_target)\n",
        "print(\"lasso train set score:\", lasso.score(train_scaled, train_target))\n",
        "print(\"lasso test set score:\", lasso.score(test_scaled, test_target))"
      ],
      "metadata": {
        "colab": {
          "base_uri": "https://localhost:8080/"
        },
        "id": "r_p9-TuazB8e",
        "outputId": "901e7856-9c0b-4909-d169-6d0e853c9246"
      },
      "execution_count": null,
      "outputs": [
        {
          "output_type": "stream",
          "name": "stdout",
          "text": [
            "lasso train set score: 0.9888067471131867\n",
            "lasso test set score: 0.9824470598706695\n"
          ]
        }
      ]
    },
    {
      "cell_type": "markdown",
      "source": [
        "- 릿지 모델과 마찬가지로 overfitting을 잘 억제하고 test set의 성능을 크게 높였다."
      ],
      "metadata": {
        "id": "U_JTRKuGA5f8"
      }
    },
    {
      "cell_type": "code",
      "source": [
        "print(np.sum(lasso.coef_ == 0))"
      ],
      "metadata": {
        "colab": {
          "base_uri": "https://localhost:8080/"
        },
        "id": "6fP2b_CXzB-r",
        "outputId": "b25f3a9a-232b-4e5b-ca10-1836bdb05bfa"
      },
      "execution_count": null,
      "outputs": [
        {
          "output_type": "stream",
          "name": "stdout",
          "text": [
            "40\n"
          ]
        }
      ]
    },
    {
      "cell_type": "markdown",
      "source": [
        "- 라쏘 모델의 경우 계수 값을 0으로 만들 수 있다.\n",
        "- 라쏘 모델의 계수는 coef_ 속성에 저장되어 있다.\n",
        "계수가 0인 것을 찾아보면 55개의 특성 중 40개가 0에 해당하는 것을 알 수 있다. 이런 특징을 바탕으로 라쏘 모델은 유용한 특성을 골라내는 데 사용된다.\n",
        "- np.sum() 함수 : 배열을 모두 더한 값을 반환한다."
      ],
      "metadata": {
        "id": "_PUbyMN7Bhr6"
      }
    },
    {
      "cell_type": "code",
      "source": [],
      "metadata": {
        "id": "oNV69Ad5zqE0"
      },
      "execution_count": null,
      "outputs": []
    }
  ]
}